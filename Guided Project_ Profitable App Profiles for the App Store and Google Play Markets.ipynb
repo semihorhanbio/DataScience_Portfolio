{
 "cells": [
  {
   "cell_type": "markdown",
   "metadata": {},
   "source": [
    "# app store & google play apps data analysis\n",
    "\n",
    "Project is aim to investigate apps usage that is avaliable in the google play and app store. It has done using python language. Number of adds viewing was investigated by user and it is main object of the project.    "
   ]
  },
  {
   "cell_type": "code",
   "execution_count": 16,
   "metadata": {
    "collapsed": false
   },
   "outputs": [],
   "source": [
    "def open_dataset(file_name, header=False):        \n",
    "    opened_file = open(file_name)\n",
    "    from csv import reader\n",
    "    read_file = reader(opened_file)\n",
    "    data = list(read_file)\n",
    "    return data\n",
    "data_apple = open_dataset(\"AppleStore.csv\") # open applestore dataset\n",
    "data_play_store = open_dataset(\"googleplaystore.csv\") # open playstore dataset"
   ]
  },
  {
   "cell_type": "code",
   "execution_count": 17,
   "metadata": {
    "collapsed": true
   },
   "outputs": [],
   "source": [
    "def explore_data(dataset, start, end, rows_and_columns=False):\n",
    "    dataset_slice = dataset[start:end]    \n",
    "    for row in dataset_slice:\n",
    "        print(row)\n",
    "        print('\\n') # adds a new (empty) line after each row\n",
    "\n",
    "    if rows_and_columns:\n",
    "        print('Number of rows:', len(dataset))\n",
    "        print('Number of columns:', len(dataset[0]))"
   ]
  },
  {
   "cell_type": "code",
   "execution_count": 18,
   "metadata": {
    "collapsed": false
   },
   "outputs": [
    {
     "name": "stdout",
     "output_type": "stream",
     "text": [
      "['284882215', 'Facebook', '389879808', 'USD', '0.0', '2974676', '212', '3.5', '3.5', '95.0', '4+', 'Social Networking', '37', '1', '29', '1']\n",
      "\n",
      "\n",
      "['389801252', 'Instagram', '113954816', 'USD', '0.0', '2161558', '1289', '4.5', '4.0', '10.23', '12+', 'Photo & Video', '37', '0', '29', '1']\n",
      "\n",
      "\n",
      "None\n",
      "['Photo Editor & Candy Camera & Grid & ScrapBook', 'ART_AND_DESIGN', '4.1', '159', '19M', '10,000+', 'Free', '0', 'Everyone', 'Art & Design', 'January 7, 2018', '1.0.0', '4.0.3 and up']\n",
      "\n",
      "\n",
      "['Coloring book moana', 'ART_AND_DESIGN', '3.9', '967', '14M', '500,000+', 'Free', '0', 'Everyone', 'Art & Design;Pretend Play', 'January 15, 2018', '2.0.0', '4.0.3 and up']\n",
      "\n",
      "\n",
      "None\n"
     ]
    }
   ],
   "source": [
    "print(explore_data(data_apple, 1, 3))\n",
    "print(explore_data(data_play_store, 1, 3))"
   ]
  },
  {
   "cell_type": "code",
   "execution_count": 19,
   "metadata": {
    "collapsed": false
   },
   "outputs": [
    {
     "name": "stdout",
     "output_type": "stream",
     "text": [
      "['id', 'track_name', 'size_bytes', 'currency', 'price', 'rating_count_tot', 'rating_count_ver', 'user_rating', 'user_rating_ver', 'ver', 'cont_rating', 'prime_genre', 'sup_devices.num', 'ipadSc_urls.num', 'lang.num', 'vpp_lic']\n",
      "\n",
      "\n",
      "None\n",
      "['App', 'Category', 'Rating', 'Reviews', 'Size', 'Installs', 'Type', 'Price', 'Content Rating', 'Genres', 'Last Updated', 'Current Ver', 'Android Ver']\n",
      "\n",
      "\n",
      "None\n"
     ]
    }
   ],
   "source": [
    "print(explore_data(data_apple, 0, 1)) # column names for datasets\n",
    "print(explore_data(data_play_store, 0, 1))"
   ]
  },
  {
   "cell_type": "markdown",
   "metadata": {},
   "source": [
    " https://www.kaggle.com/lava18/google-play-store-apps/home\n",
    " https://www.kaggle.com/ramamet4/app-store-apple-data-set-10k-apps/home\n",
    " documentations for the columns names in case of they are not descriptive "
   ]
  },
  {
   "cell_type": "code",
   "execution_count": 20,
   "metadata": {
    "collapsed": false
   },
   "outputs": [
    {
     "name": "stdout",
     "output_type": "stream",
     "text": [
      "['Life Made WI-Fi Touchscreen Photo Frame', '1.9', '19', '3.0M', '1,000+', 'Free', '0', 'Everyone', '', 'February 11, 2018', '1.0.19', '4.0 and up']\n",
      "\n",
      "\n",
      "None\n"
     ]
    }
   ],
   "source": [
    "print(explore_data(data_play_store, 10473, 10474))\n",
    "del data_play_store[10473]"
   ]
  },
  {
   "cell_type": "code",
   "execution_count": 21,
   "metadata": {
    "collapsed": false
   },
   "outputs": [
    {
     "name": "stdout",
     "output_type": "stream",
     "text": [
      "['Instagram', 'SOCIAL', '4.5', '66577313', 'Varies with device', '1,000,000,000+', 'Free', '0', 'Teen', 'Social', 'July 31, 2018', 'Varies with device', 'Varies with device']\n",
      "['Instagram', 'SOCIAL', '4.5', '66577446', 'Varies with device', '1,000,000,000+', 'Free', '0', 'Teen', 'Social', 'July 31, 2018', 'Varies with device', 'Varies with device']\n",
      "['Instagram', 'SOCIAL', '4.5', '66577313', 'Varies with device', '1,000,000,000+', 'Free', '0', 'Teen', 'Social', 'July 31, 2018', 'Varies with device', 'Varies with device']\n",
      "['Instagram', 'SOCIAL', '4.5', '66509917', 'Varies with device', '1,000,000,000+', 'Free', '0', 'Teen', 'Social', 'July 31, 2018', 'Varies with device', 'Varies with device']\n"
     ]
    }
   ],
   "source": [
    "for row in data_play_store: # loop prove that play store data-set contains duplicate entries\n",
    "    duplicate = row[0]\n",
    "    if duplicate == \"Instagram\":\n",
    "        print(row)"
   ]
  },
  {
   "cell_type": "code",
   "execution_count": 22,
   "metadata": {
    "collapsed": false
   },
   "outputs": [
    {
     "name": "stdout",
     "output_type": "stream",
     "text": [
      "Number of duplicate apps: 1181\n"
     ]
    }
   ],
   "source": [
    "duplicate_apps = [] # duplicate entries in play_store dataset\n",
    "unique_apps = []\n",
    "for row in data_play_store:\n",
    "    if row[0] in unique_apps:\n",
    "        duplicate_apps.append(row[0])\n",
    "    else:\n",
    "        unique_apps.append(row[0])\n",
    "print(\"Number of duplicate apps:\", len(duplicate_apps))"
   ]
  },
  {
   "cell_type": "markdown",
   "metadata": {},
   "source": [
    "Removing duplicate play store apps data needs a criteria beacause eliminate the data randomly will be labor intensive. Number of reviews in rows found in the 4th column. This column is different in each of the duplicates. Higher the duplicate means data is newer. This property was used to remove duplicates. "
   ]
  },
  {
   "cell_type": "markdown",
   "metadata": {},
   "source": [
    "The below code create a dictionary that contains unique apps name and their highest review. This dictionary is used for removing duplicates. Basically, maximum review ensure us that only one duplicate remain after using the dictionary for removing."
   ]
  },
  {
   "cell_type": "code",
   "execution_count": 23,
   "metadata": {
    "collapsed": false
   },
   "outputs": [],
   "source": [
    "reviews_max = {} # unique app name and highest number of reviews of that app\n",
    "data_play_store = data_play_store[1:] # remove the header row\n",
    "for row in data_play_store:\n",
    "    name = row[0] # app name\n",
    "    n_reviews = float(row[3])\n",
    "    if name in reviews_max and reviews_max[name] < n_reviews:\n",
    "        reviews_max[name] = n_reviews\n",
    "    elif name not in reviews_max:\n",
    "        reviews_max[name] = n_reviews"
   ]
  },
  {
   "cell_type": "markdown",
   "metadata": {},
   "source": [
    "Since reviews_max dictionary only contains unique apps and their reviews, if we loop through play store data set to match maximum review and added to new list we will only have unique values.  "
   ]
  },
  {
   "cell_type": "code",
   "execution_count": 24,
   "metadata": {
    "collapsed": false
   },
   "outputs": [],
   "source": [
    "android_clean = [] # store our new cleaned play store data set\n",
    "already_added = [] # store app names\n",
    "for row in data_play_store:\n",
    "    name = row[0]\n",
    "    n_reviews = float(row[3])\n",
    "    if n_reviews == reviews_max[name] and name not in already_added:\n",
    "        android_clean.append(row)\n",
    "        already_added.append(name)"
   ]
  },
  {
   "cell_type": "markdown",
   "metadata": {},
   "source": [
    "below code remove apps that names are non-english characters"
   ]
  },
  {
   "cell_type": "code",
   "execution_count": 25,
   "metadata": {
    "collapsed": false
   },
   "outputs": [],
   "source": [
    "def eng_char_ctrl(string):\n",
    "    count = 0\n",
    "    for char in string:\n",
    "        if ord(char) > 127:\n",
    "            count += 1\n",
    "    if count > 3:\n",
    "        return False\n",
    "    return True\n",
    "android_eng_apps = [] # English apps from play store data set\n",
    "apple_eng_apps = [] # English apps from apple store data set\n",
    "for row in android_clean:\n",
    "    name = eng_char_ctrl(row[0])\n",
    "    if name:\n",
    "        android_eng_apps.append(row)\n",
    "for row in data_apple[1:]:\n",
    "    name = eng_char_ctrl(row[0])\n",
    "    if name:\n",
    "        apple_eng_apps.append(row)\n"
   ]
  },
  {
   "cell_type": "markdown",
   "metadata": {},
   "source": [
    "below code remove apps that are not free"
   ]
  },
  {
   "cell_type": "code",
   "execution_count": 26,
   "metadata": {
    "collapsed": false
   },
   "outputs": [],
   "source": [
    "free_android_apps = []\n",
    "for row in android_eng_apps:\n",
    "    if row[6] == \"Free\":\n",
    "        free_android_apps.append(row)\n",
    "free_apple_apps = []\n",
    "for row in apple_eng_apps:\n",
    "    if row[4] == \"0.0\":\n",
    "        free_apple_apps.append(row)"
   ]
  },
  {
   "cell_type": "markdown",
   "metadata": {},
   "source": [
    "Our main objective is find apps that are used by max user that's why we need to find apps in both stores that are likely to attract more people. Good responded apps from users will be further developed for App store. Because our end goal is to add the app on both Google Play and the App Store, we need to find app profiles that are successful on both markets."
   ]
  },
  {
   "cell_type": "code",
   "execution_count": 27,
   "metadata": {
    "collapsed": false
   },
   "outputs": [],
   "source": [
    "def freq_table(dataset, index):\n",
    "    genre_counting = {}\n",
    "    for row in dataset:\n",
    "        genre = row[index]\n",
    "        if genre in genre_counting:\n",
    "            genre_counting[genre] += 1\n",
    "        else:\n",
    "            genre_counting[genre] = 1\n",
    "    total_apps = len(dataset)\n",
    "    for percentage in genre_counting:\n",
    "        genre_counting[percentage] /= total_apps\n",
    "        genre_counting[percentage] *= 100\n",
    "    return genre_counting"
   ]
  },
  {
   "cell_type": "code",
   "execution_count": 28,
   "metadata": {
    "collapsed": false
   },
   "outputs": [],
   "source": [
    "def display_table(dataset, index):\n",
    "    table = freq_table(dataset, index)\n",
    "    table_display = []\n",
    "    for key in table:\n",
    "        key_val_as_tuple = (table[key], key)\n",
    "        table_display.append(key_val_as_tuple)\n",
    "\n",
    "    table_sorted = sorted(table_display, reverse = True)\n",
    "    for entry in table_sorted:\n",
    "        print(entry[1], ':', entry[0])"
   ]
  },
  {
   "cell_type": "code",
   "execution_count": 29,
   "metadata": {
    "collapsed": false
   },
   "outputs": [
    {
     "name": "stdout",
     "output_type": "stream",
     "text": [
      "Games : 55.64595660749507\n",
      "Entertainment : 8.234714003944774\n",
      "Photo & Video : 4.117357001972387\n",
      "Social Networking : 3.5256410256410255\n",
      "Education : 3.2544378698224854\n",
      "Shopping : 2.983234714003945\n",
      "Utilities : 2.687376725838264\n",
      "Lifestyle : 2.3175542406311638\n",
      "Finance : 2.0710059171597637\n",
      "Sports : 1.947731755424063\n",
      "Health & Fitness : 1.8737672583826428\n",
      "Music : 1.6518737672583828\n",
      "Book : 1.6272189349112427\n",
      "Productivity : 1.5285996055226825\n",
      "News : 1.4299802761341223\n",
      "Travel : 1.3806706114398422\n",
      "Food & Drink : 1.0601577909270217\n",
      "Weather : 0.7642998027613412\n",
      "Reference : 0.4930966469428008\n",
      "Navigation : 0.4930966469428008\n",
      "Business : 0.4930966469428008\n",
      "Catalogs : 0.22189349112426035\n",
      "Medical : 0.19723865877712032\n"
     ]
    },
    {
     "ename": "TypeError",
     "evalue": "'NoneType' object is not subscriptable",
     "output_type": "error",
     "traceback": [
      "\u001b[1;31m\u001b[0m",
      "\u001b[1;31mTypeError\u001b[0mTraceback (most recent call last)",
      "\u001b[1;32m<ipython-input-29-3330d18fbd33>\u001b[0m in \u001b[0;36m<module>\u001b[1;34m()\u001b[0m\n\u001b[1;32m----> 1\u001b[1;33m \u001b[0mprint\u001b[0m\u001b[1;33m(\u001b[0m\u001b[0mdisplay_table\u001b[0m\u001b[1;33m(\u001b[0m\u001b[0mfree_apple_apps\u001b[0m\u001b[1;33m,\u001b[0m\u001b[1;36m11\u001b[0m\u001b[1;33m)\u001b[0m\u001b[1;33m[\u001b[0m\u001b[1;36m0\u001b[0m\u001b[1;33m]\u001b[0m\u001b[1;33m)\u001b[0m \u001b[1;31m# genre frequencies used by people in App Store\u001b[0m\u001b[1;33m\u001b[0m\u001b[0m\n\u001b[0m",
      "\u001b[1;31mTypeError\u001b[0m: 'NoneType' object is not subscriptable"
     ]
    }
   ],
   "source": [
    "print(display_table(free_apple_apps,11)[0]) # genre frequencies used by people in App Store"
   ]
  },
  {
   "cell_type": "code",
   "execution_count": null,
   "metadata": {
    "collapsed": false
   },
   "outputs": [],
   "source": [
    "print(display_table(free_android_apps, 1))# category frequencies used by people in play Store"
   ]
  },
  {
   "cell_type": "code",
   "execution_count": null,
   "metadata": {
    "collapsed": false
   },
   "outputs": [],
   "source": [
    "print(display_table(free_android_apps, 9)) #genre frequencies used by people in play Store"
   ]
  },
  {
   "cell_type": "code",
   "execution_count": 39,
   "metadata": {
    "collapsed": false,
    "scrolled": true
   },
   "outputs": [
    {
     "name": "stdout",
     "output_type": "stream",
     "text": [
      "genre: News average number of user ratings: 2.8793103448275863\n",
      "genre: Shopping average number of user ratings: 3.5330578512396693\n",
      "genre: Navigation average number of user ratings: 2.2\n",
      "genre: Food & Drink average number of user ratings: 3.0348837209302326\n",
      "genre: Social Networking average number of user ratings: 2.9965034965034967\n",
      "genre: Sports average number of user ratings: 2.9177215189873418\n",
      "genre: Productivity average number of user ratings: 3.9596774193548385\n",
      "genre: Health & Fitness average number of user ratings: 3.5789473684210527\n",
      "genre: Medical average number of user ratings: 2.875\n",
      "genre: Reference average number of user ratings: 3.3\n",
      "genre: Book average number of user ratings: 1.5984848484848484\n",
      "genre: Education average number of user ratings: 3.484848484848485\n",
      "genre: Lifestyle average number of user ratings: 2.5904255319148937\n",
      "genre: Utilities average number of user ratings: 3.4541284403669725\n",
      "genre: Business average number of user ratings: 3.5\n",
      "genre: Games average number of user ratings: 3.5285777580859548\n",
      "genre: Music average number of user ratings: 3.9402985074626864\n",
      "genre: Finance average number of user ratings: 2.2202380952380953\n",
      "genre: Travel average number of user ratings: 3.375\n",
      "genre: Photo & Video average number of user ratings: 3.7934131736526946\n",
      "genre: Weather average number of user ratings: 3.2580645161290325\n",
      "genre: Catalogs average number of user ratings: 1.8333333333333333\n",
      "genre: Entertainment average number of user ratings: 3.1482035928143715\n"
     ]
    }
   ],
   "source": [
    "prime_genre_applestore = freq_table(free_apple_apps,11)\n",
    "for genre in prime_genre_applestore:\n",
    "    total = 0 #sum of user ratings specific to each genre.\n",
    "    len_genre = 0 #number of apps specific to each genre\n",
    "    for row in free_apple_apps:\n",
    "        genre_app = row[11]\n",
    "        if genre == genre_app:\n",
    "            ratings = float(row[7])\n",
    "            total += ratings\n",
    "            len_genre += 1\n",
    "    avg_ratings = total / len_genre\n",
    "    print(\"genre:\", genre, \"average number of user ratings:\", avg_ratings)"
   ]
  },
  {
   "cell_type": "code",
   "execution_count": 47,
   "metadata": {
    "collapsed": false,
    "scrolled": true
   },
   "outputs": [
    {
     "name": "stdout",
     "output_type": "stream",
     "text": [
      "app genre: PERSONALIZATION average number of installs: 5201482.6122448975\n",
      "app genre: VIDEO_PLAYERS average number of installs: 24727872.452830188\n",
      "app genre: AUTO_AND_VEHICLES average number of installs: 647317.8170731707\n",
      "app genre: MAPS_AND_NAVIGATION average number of installs: 4056941.7741935486\n",
      "app genre: DATING average number of installs: 854028.8303030303\n",
      "app genre: ART_AND_DESIGN average number of installs: 1986335.0877192982\n",
      "app genre: LIFESTYLE average number of installs: 1437816.2687861272\n",
      "app genre: HOUSE_AND_HOME average number of installs: 1331540.5616438356\n",
      "app genre: ENTERTAINMENT average number of installs: 11640705.88235294\n",
      "app genre: MEDICAL average number of installs: 120550.61980830671\n",
      "app genre: BUSINESS average number of installs: 1712290.1474201474\n",
      "app genre: GAME average number of installs: 15588015.603248259\n",
      "app genre: EDUCATION average number of installs: 1833495.145631068\n",
      "app genre: FINANCE average number of installs: 1387692.475609756\n",
      "app genre: FAMILY average number of installs: 3697848.1731343283\n",
      "app genre: WEATHER average number of installs: 5074486.197183099\n",
      "app genre: PRODUCTIVITY average number of installs: 16787331.344927534\n",
      "app genre: TOOLS average number of installs: 10801391.298666667\n",
      "app genre: COMICS average number of installs: 817657.2727272727\n",
      "app genre: TRAVEL_AND_LOCAL average number of installs: 13984077.710144928\n",
      "app genre: BEAUTY average number of installs: 513151.88679245283\n",
      "app genre: HEALTH_AND_FITNESS average number of installs: 4188821.9853479853\n",
      "app genre: EVENTS average number of installs: 253542.22222222222\n",
      "app genre: LIBRARIES_AND_DEMO average number of installs: 638503.734939759\n",
      "app genre: SOCIAL average number of installs: 23253652.127118643\n",
      "app genre: NEWS_AND_MAGAZINES average number of installs: 9549178.467741935\n",
      "app genre: SPORTS average number of installs: 3638640.1428571427\n",
      "app genre: PARENTING average number of installs: 542603.6206896552\n",
      "app genre: COMMUNICATION average number of installs: 38456119.167247385\n",
      "app genre: SHOPPING average number of installs: 7036877.311557789\n",
      "app genre: PHOTOGRAPHY average number of installs: 17840110.40229885\n",
      "app genre: BOOKS_AND_REFERENCE average number of installs: 8767811.894736841\n",
      "app genre: FOOD_AND_DRINK average number of installs: 1924897.7363636363\n"
     ]
    }
   ],
   "source": [
    "category_freq_play_store = freq_table(free_android_apps, 1)\n",
    "for category in category_freq_play_store:\n",
    "    total = 0 #sum of installs specific to each genre\n",
    "    len_category = 0 #number of apps specific to each genre\n",
    "    for row in free_android_apps:\n",
    "        category_app = row[1]\n",
    "        if category_app == category:\n",
    "            n_installs = row[5]\n",
    "            n_installs = n_installs.replace(\"+\", \"\")\n",
    "            n_installs = float(n_installs.replace(\",\", \"\"))\n",
    "            total += n_installs\n",
    "            len_category += 1\n",
    "    avg_installs = total / len_category\n",
    "    print(\"app genre:\", category, \"average number of installs:\", avg_installs)"
   ]
  }
 ],
 "metadata": {
  "kernelspec": {
   "display_name": "Python 3",
   "language": "python",
   "name": "python3"
  },
  "language_info": {
   "codemirror_mode": {
    "name": "ipython",
    "version": 3
   },
   "file_extension": ".py",
   "mimetype": "text/x-python",
   "name": "python",
   "nbconvert_exporter": "python",
   "pygments_lexer": "ipython3",
   "version": "3.4.3"
  }
 },
 "nbformat": 4,
 "nbformat_minor": 2
}
